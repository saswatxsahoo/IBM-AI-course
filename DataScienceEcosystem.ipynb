{
 "cells": [
  {
   "cell_type": "code",
   "execution_count": 39,
   "id": "ac617f60-d03b-4aa6-93e9-ca7ed3573639",
   "metadata": {},
   "outputs": [],
   "source": [
    "# Data Science Tools and Ecosystem"
   ]
  },
  {
   "cell_type": "code",
   "execution_count": 62,
   "id": "eec3981f-f5a7-4cf9-8395-1264e9e1dc54",
   "metadata": {},
   "outputs": [
    {
     "name": "stdout",
     "output_type": "stream",
     "text": [
      "['print lists', 'create tables', 'mathematical calculations']\n"
     ]
    }
   ],
   "source": [
    "## In this notebook, Data Science Tools and Ecosystem are summarized.\n",
    "## __Objectives:__\n",
    "objectives=[\"print lists\",\"create tables\",\"mathematical calculations\"]\n",
    "print(objectives)"
   ]
  },
  {
   "cell_type": "code",
   "execution_count": 56,
   "id": "c4cbc148-35af-4c3e-bf60-f292d7da3730",
   "metadata": {},
   "outputs": [
    {
     "name": "stdout",
     "output_type": "stream",
     "text": [
      "[[1, 'Julia'], [2, 'Python'], [3, 'R']]\n"
     ]
    }
   ],
   "source": [
    "### Some of the popular languages that Data Scientists use are:\n",
    "languagelist = [[1,\"Julia\"],[2,\"Python\"],[3,\"R\"]]\n",
    "print(languagelist)"
   ]
  },
  {
   "cell_type": "code",
   "execution_count": 60,
   "id": "be67cb9e-03cd-4973-b6e6-4d1c05b0d8bd",
   "metadata": {},
   "outputs": [
    {
     "name": "stdout",
     "output_type": "stream",
     "text": [
      "[[1, 'numpy'], [2, 'matplotlib'], [3, 'scikit learn']]\n"
     ]
    }
   ],
   "source": [
    "### Some of the commonly used libraries used by Data Scientists include:\n",
    "librarylist = [[1,\"numpy\"],[2,\"matplotlib\"],[3,\"scikit learn\"]]\n",
    "print(librarylist)"
   ]
  },
  {
   "cell_type": "code",
   "execution_count": 43,
   "id": "90e3403a-7a42-49bc-bc34-6053ad51a58d",
   "metadata": {},
   "outputs": [
    {
     "name": "stdout",
     "output_type": "stream",
     "text": [
      "+----------------------+\n",
      "| Data Science Tools   |\n",
      "+======================+\n",
      "| RStudio              |\n",
      "+----------------------+\n",
      "| Jupyter Notebook     |\n",
      "+----------------------+\n",
      "| Apache Spark         |\n",
      "+----------------------+\n"
     ]
    }
   ],
   "source": [
    "### creating a table\n",
    "from tabulate import tabulate\n",
    "mytable=[[\"RStudio\"],[\"Jupyter Notebook\"],[\"Apache Spark\"]]\n",
    "myheader=[\"Data Science Tools\"]\n",
    "print(tabulate(mytable, headers=myheader, tablefmt=\"grid\"))\n",
    "\n"
   ]
  },
  {
   "cell_type": "code",
   "execution_count": 44,
   "id": "fdfe33d1-d46e-4576-a5d7-e7f45cbbc396",
   "metadata": {},
   "outputs": [],
   "source": [
    "### Below are a few examples of evaluating arithmetic expressions in Python"
   ]
  },
  {
   "cell_type": "code",
   "execution_count": 45,
   "id": "29e032bc-2742-4649-bbd6-4608a9ed72be",
   "metadata": {},
   "outputs": [
    {
     "name": "stdout",
     "output_type": "stream",
     "text": [
      "17\n"
     ]
    }
   ],
   "source": [
    "### This a simple arithmetic expression to mutiply then add integers\n",
    "result = (3*4)+5\n",
    "print(result)"
   ]
  },
  {
   "cell_type": "code",
   "execution_count": 46,
   "id": "6e8ef2fa-7d11-4fa1-996d-d0314d1abc0a",
   "metadata": {},
   "outputs": [
    {
     "name": "stdout",
     "output_type": "stream",
     "text": [
      "hours = 3.3333333333333335\n"
     ]
    }
   ],
   "source": [
    "### This will convert 200 minutes to hours by diving by 60\n",
    "min = 200\n",
    "hours = min/60\n",
    "print(\"hours =\",hours)\n"
   ]
  },
  {
   "cell_type": "code",
   "execution_count": 64,
   "id": "a205fc71-3d71-46fa-893e-d76e9a3bee95",
   "metadata": {},
   "outputs": [],
   "source": [
    "## Author Saswat Sahoo"
   ]
  },
  {
   "cell_type": "code",
   "execution_count": null,
   "id": "dc4187a4-5b8d-4d39-bdd3-159ea43968ca",
   "metadata": {},
   "outputs": [],
   "source": []
  }
 ],
 "metadata": {
  "kernelspec": {
   "display_name": "Python 3 (ipykernel)",
   "language": "python",
   "name": "python3"
  },
  "language_info": {
   "codemirror_mode": {
    "name": "ipython",
    "version": 3
   },
   "file_extension": ".py",
   "mimetype": "text/x-python",
   "name": "python",
   "nbconvert_exporter": "python",
   "pygments_lexer": "ipython3",
   "version": "3.12.4"
  }
 },
 "nbformat": 4,
 "nbformat_minor": 5
}
