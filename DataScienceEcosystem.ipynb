{
 "cells": [
  {
   "cell_type": "markdown",
   "id": "e27ce2c9-e97b-4e59-ace0-de7568fb92d4",
   "metadata": {},
   "source": [
    "# Data Science Tools and Ecosystem"
   ]
  },
  {
   "cell_type": "markdown",
   "id": "4b86023d-e87b-4bae-a157-9f8d297b5230",
   "metadata": {
    "scrolled": true
   },
   "source": [
    "## In this notebook, Data Science Tools and Ecosystem are summarized."
   ]
  },
  {
   "cell_type": "markdown",
   "id": "989084b7-8bf6-4b75-b24a-7a7545b80431",
   "metadata": {},
   "source": [
    "### Some of the popular languages that Data Scientists use are:\n"
   ]
  },
  {
   "cell_type": "code",
   "execution_count": 61,
   "id": "340bb808-f293-4cd1-aa55-f781fbe06700",
   "metadata": {},
   "outputs": [
    {
     "name": "stdout",
     "output_type": "stream",
     "text": [
      "1 Julia\n",
      "2 Python\n",
      "3 R\n"
     ]
    }
   ],
   "source": [
    "\n",
    "languagelist = [\"Julia\",\"Python\",\"R\"]\n",
    "for index, languagelist in enumerate(languagelist,start=1):\n",
    " print(index, languagelist)"
   ]
  },
  {
   "cell_type": "markdown",
   "id": "93eb7f20-42ef-433e-9c6d-e304b57c94e6",
   "metadata": {},
   "source": [
    "### Some of the commonly used libraries used by Data Scientists include:"
   ]
  },
  {
   "cell_type": "code",
   "execution_count": 68,
   "id": "c65ccf2a-1fd3-4835-a1a1-495c10d0cd6d",
   "metadata": {},
   "outputs": [
    {
     "name": "stdout",
     "output_type": "stream",
     "text": [
      "1 numpy\n",
      "2 matplotlib\n",
      "3 scikit learn\n"
     ]
    }
   ],
   "source": [
    "\n",
    "librarylist = [\"numpy\",\"matplotlib\",\"scikit learn\"]\n",
    "for index, librarylist in enumerate(librarylist,start=1):\n",
    " print(index, librarylist)"
   ]
  },
  {
   "cell_type": "code",
   "execution_count": 78,
   "id": "90e3403a-7a42-49bc-bc34-6053ad51a58d",
   "metadata": {},
   "outputs": [
    {
     "name": "stdout",
     "output_type": "stream",
     "text": [
      "+----------------------+\n",
      "| Data Science Tools   |\n",
      "+======================+\n",
      "| RStudio              |\n",
      "+----------------------+\n",
      "| Jupyter Notebook     |\n",
      "+----------------------+\n",
      "| Apache Spark         |\n",
      "+----------------------+\n"
     ]
    }
   ],
   "source": [
    "### creating a table\n",
    "from tabulate import tabulate\n",
    "mytable=[[\"RStudio\"],[\"Jupyter Notebook\"],[\"Apache Spark\"]]\n",
    "myheader=[\"Data Science Tools\"]\n",
    "print(tabulate(mytable, headers=myheader, tablefmt=\"grid\"))\n",
    "\n"
   ]
  },
  {
   "cell_type": "markdown",
   "id": "d8a40ade-ac48-41d8-9292-835cc958ea09",
   "metadata": {},
   "source": [
    "### Below are a few examples of evaluating arithmetic expressions in Python"
   ]
  },
  {
   "cell_type": "markdown",
   "id": "6dd84641-40ba-4648-9dac-0d999dfab35d",
   "metadata": {},
   "source": [
    "### This a simple arithmetic expression to mutiply then add integers"
   ]
  },
  {
   "cell_type": "code",
   "execution_count": 29,
   "id": "f5fe9dd2-c9b5-458b-87f0-a51580a31a9f",
   "metadata": {},
   "outputs": [
    {
     "name": "stdout",
     "output_type": "stream",
     "text": [
      "17\n"
     ]
    }
   ],
   "source": [
    "\n",
    "result = (3*4)+5\n",
    "print(result)"
   ]
  },
  {
   "cell_type": "markdown",
   "id": "b8b9c578-019d-4ad8-aebb-297043717170",
   "metadata": {},
   "source": [
    "### This will convert 200 minutes to hours by diving by 60\n"
   ]
  },
  {
   "cell_type": "code",
   "execution_count": 31,
   "id": "19269ce9-419c-4ba4-b33e-88fab7784bc2",
   "metadata": {},
   "outputs": [
    {
     "name": "stdout",
     "output_type": "stream",
     "text": [
      "hours = 3.3333333333333335\n"
     ]
    }
   ],
   "source": [
    "### This will convert 200 minutes to hours by diving by 60\n",
    "min = 200\n",
    "hours = min/60\n",
    "print(\"hours =\",hours)\n"
   ]
  },
  {
   "cell_type": "markdown",
   "id": "d9fa727c-c6a1-4b37-b980-85f9ff72185f",
   "metadata": {},
   "source": [
    "## Author Saswat Sahoo"
   ]
  },
  {
   "cell_type": "markdown",
   "id": "9fc0cbed-5ed2-4e9c-93cd-18d0222be93f",
   "metadata": {},
   "source": [
    "## Objectives:"
   ]
  },
  {
   "cell_type": "code",
   "execution_count": 82,
   "id": "b75b8e57-96d0-415d-95c1-6adc45bd1d5d",
   "metadata": {
    "scrolled": true
   },
   "outputs": [
    {
     "name": "stdout",
     "output_type": "stream",
     "text": [
      ". print lists\n",
      ". create tables\n",
      ". mathematical calculations\n"
     ]
    }
   ],
   "source": [
    "\n",
    "objectives=[\"print lists\",\"create tables\",\"mathematical calculations\"]\n",
    "for i in objectives:\n",
    " print(\". \" +i)"
   ]
  },
  {
   "cell_type": "code",
   "execution_count": null,
   "id": "dc4187a4-5b8d-4d39-bdd3-159ea43968ca",
   "metadata": {},
   "outputs": [],
   "source": []
  }
 ],
 "metadata": {
  "kernelspec": {
   "display_name": "Python 3 (ipykernel)",
   "language": "python",
   "name": "python3"
  },
  "language_info": {
   "codemirror_mode": {
    "name": "ipython",
    "version": 3
   },
   "file_extension": ".py",
   "mimetype": "text/x-python",
   "name": "python",
   "nbconvert_exporter": "python",
   "pygments_lexer": "ipython3",
   "version": "3.12.4"
  }
 },
 "nbformat": 4,
 "nbformat_minor": 5
}
